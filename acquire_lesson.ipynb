{
 "cells": [
  {
   "cell_type": "markdown",
   "metadata": {},
   "source": [
    "# Data Acquisition with Web Scraping"
   ]
  },
  {
   "cell_type": "code",
   "execution_count": 8,
   "metadata": {},
   "outputs": [],
   "source": [
    "import requests\n",
    "from bs4 import BeautifulSoup \n",
    "import pandas as pd\n",
    "import os"
   ]
  },
  {
   "cell_type": "markdown",
   "metadata": {},
   "source": [
    "First make the request. The response is a bunch of html."
   ]
  },
  {
   "cell_type": "code",
   "execution_count": 9,
   "metadata": {
    "scrolled": true
   },
   "outputs": [
    {
     "data": {
      "text/plain": [
       "'<!DOCTYPE html>\\n<html lang=\"en\">\\n<head>\\n    <meta charset=\"UTF-8\">\\n    <meta http-equiv=\"X-UA-Compatible\" content=\"IE=edge\">\\n    <meta name=\"viewport\" content=\"width=device-width, initial-scale=1.0\">\\n    <title>News Example Page</title>\\n    <link href=\"https://unpkg.com/tailwindcss@^2/dist/tailwind.min.css\" rel=\"stylesheet\" />\\n    <link rel=\"stylesheet\" href=\"https://cdn.jsdelivr.net/npm/bootstrap-icons@1.4.1/font/bootstrap-icons.css\" />\\n</head>\\n<body class=\"mx-auto max-w-screen-lg pb-32\">\\n    \\n<h1 class=\"my-5 text-4xl text-center\">News!</h1>\\n<div class=\"my-5 text-red-800 px-5 py-3 bg-red-100 font-bold\">\\n    <p>\\n        <i class=\"bi bi-exclamation-circle text-xl\"></i>\\n        All data on this page is strictly for demonstration purposes and fake.\\n    </p>\\n</div>\\n<div class=\"grid gap-y-12\">\\n    \\n    <div class=\"grid grid-cols-4 gap-x-4 border rounded pr-3 bg-green-50 hover:shadow-lg transition duration-500\">\\n        <img src=\"/static/placeholder.png\" />\\n        <div class=\"col-span-3 space-y-3 py-3\">\\n            <h2 class=\"text-2xl text-green-900\">employee detail federal</h2>\\n            <div class=\"grid grid-cols-2 italic\">\\n                <p> 1977-03-08 </p>\\n                <p class=\"text-right\">By Jessica King </p>\\n            </div>\\n            <p>Find leader month phone describe scene wait someone. Indeed rich off tonight fine and party.\\nThrough task interest. Detail real human camera.</p>\\n        </div>\\n    </div>\\n    \\n    <div class=\"grid grid-cols-4 gap-x-4 border rounded pr-3 bg-green-50 hover:shadow-lg transition duration-500\">\\n        <img src=\"/static/placeholder.png\" />\\n        <div class=\"col-span-3 space-y-3 py-3\">\\n            <h2 class=\"text-2xl text-green-900\">blue process spend</h2>\\n            <div class=\"grid grid-cols-2 italic\">\\n                <p> 1997-10-01 </p>\\n                <p class=\"text-right\">By April Duncan </p>\\n            </div>\\n            <p>Cause on man north drive operation. Might ability building. Sense consider guess magazine south.\\nRepresent result work value too everyone different. High star guy wife sound seat chance who.</p>\\n        </div>\\n    </div>\\n    \\n    <div class=\"grid grid-cols-4 gap-x-4 border rounded pr-3 bg-green-50 hover:shadow-lg transition duration-500\">\\n        <img src=\"/static/placeholder.png\" />\\n        <div class=\"col-span-3 space-y-3 py-3\">\\n            <h2 class=\"text-2xl text-green-900\">list standard throw</h2>\\n            <div class=\"grid grid-cols-2 italic\">\\n                <p> 1984-12-16 </p>\\n                <p class=\"text-right\">By Cindy Wood </p>\\n            </div>\\n            <p>End son son fund real local community. One degree behavior state.\\nShake inside long rock choice. Try seven evidence street financial.</p>\\n        </div>\\n    </div>\\n    \\n    <div class=\"grid grid-cols-4 gap-x-4 border rounded pr-3 bg-green-50 hover:shadow-lg transition duration-500\">\\n        <img src=\"/static/placeholder.png\" />\\n        <div class=\"col-span-3 space-y-3 py-3\">\\n            <h2 class=\"text-2xl text-green-900\">during lawyer building</h2>\\n            <div class=\"grid grid-cols-2 italic\">\\n                <p> 1977-12-01 </p>\\n                <p class=\"text-right\">By Stephen Dunn </p>\\n            </div>\\n            <p>Leave control civil structure perform nation exactly. Size television dark investment.\\nNecessary behind road fact physical. Day child weight effect. East either wind right Mr wish.</p>\\n        </div>\\n    </div>\\n    \\n    <div class=\"grid grid-cols-4 gap-x-4 border rounded pr-3 bg-green-50 hover:shadow-lg transition duration-500\">\\n        <img src=\"/static/placeholder.png\" />\\n        <div class=\"col-span-3 space-y-3 py-3\">\\n            <h2 class=\"text-2xl text-green-900\">station treat design</h2>\\n            <div class=\"grid grid-cols-2 italic\">\\n                <p> 2020-02-01 </p>\\n                <p class=\"text-right\">By Linda Bryant </p>\\n            </div>\\n            <p>Once forget yourself news population. Go once window laugh. Might president ready actually I then those.\\nSide million difference show.</p>\\n        </div>\\n    </div>\\n    \\n    <div class=\"grid grid-cols-4 gap-x-4 border rounded pr-3 bg-green-50 hover:shadow-lg transition duration-500\">\\n        <img src=\"/static/placeholder.png\" />\\n        <div class=\"col-span-3 space-y-3 py-3\">\\n            <h2 class=\"text-2xl text-green-900\">cause coach easy</h2>\\n            <div class=\"grid grid-cols-2 italic\">\\n                <p> 1983-01-27 </p>\\n                <p class=\"text-right\">By Tom Lopez </p>\\n            </div>\\n            <p>Assume human well experience. Company rather call economic. Cut general hear candidate range answer.\\nSpend record my certain fire cause. Organization sing card question prove arm ability.</p>\\n        </div>\\n    </div>\\n    \\n    <div class=\"grid grid-cols-4 gap-x-4 border rounded pr-3 bg-green-50 hover:shadow-lg transition duration-500\">\\n        <img src=\"/static/placeholder.png\" />\\n        <div class=\"col-span-3 space-y-3 py-3\">\\n            <h2 class=\"text-2xl text-green-900\">official reflect ground</h2>\\n            <div class=\"grid grid-cols-2 italic\">\\n                <p> 1988-06-09 </p>\\n                <p class=\"text-right\">By Richard Levy </p>\\n            </div>\\n            <p>Training blue let mention wind difference. Born center little compare ask challenge.\\nSuddenly figure for throw. Need need set remember me customer north try. Know collection never support employee somebody.</p>\\n        </div>\\n    </div>\\n    \\n    <div class=\"grid grid-cols-4 gap-x-4 border rounded pr-3 bg-green-50 hover:shadow-lg transition duration-500\">\\n        <img src=\"/static/placeholder.png\" />\\n        <div class=\"col-span-3 space-y-3 py-3\">\\n            <h2 class=\"text-2xl text-green-900\">add have why</h2>\\n            <div class=\"grid grid-cols-2 italic\">\\n                <p> 1981-09-24 </p>\\n                <p class=\"text-right\">By Christine Harrison </p>\\n            </div>\\n            <p>Keep beautiful western. Mean rate onto both item game inside.\\nSense usually right specific tend. Professor central wall standard interview important response. Manage customer leave economic.</p>\\n        </div>\\n    </div>\\n    \\n    <div class=\"grid grid-cols-4 gap-x-4 border rounded pr-3 bg-green-50 hover:shadow-lg transition duration-500\">\\n        <img src=\"/static/placeholder.png\" />\\n        <div class=\"col-span-3 space-y-3 py-3\">\\n            <h2 class=\"text-2xl text-green-900\">goal picture himself</h2>\\n            <div class=\"grid grid-cols-2 italic\">\\n                <p> 1993-10-03 </p>\\n                <p class=\"text-right\">By Rachael Dunn </p>\\n            </div>\\n            <p>Owner word minute wall possible.\\nTrade middle level picture.</p>\\n        </div>\\n    </div>\\n    \\n    <div class=\"grid grid-cols-4 gap-x-4 border rounded pr-3 bg-green-50 hover:shadow-lg transition duration-500\">\\n        <img src=\"/static/placeholder.png\" />\\n        <div class=\"col-span-3 space-y-3 py-3\">\\n            <h2 class=\"text-2xl text-green-900\">nature civil manager</h2>\\n            <div class=\"grid grid-cols-2 italic\">\\n                <p> 1995-01-26 </p>\\n                <p class=\"text-right\">By Steven Thomas </p>\\n            </div>\\n            <p>Bed wife kind. Body agency station just fly.\\nHope ground science table.</p>\\n        </div>\\n    </div>\\n    \\n    <div class=\"grid grid-cols-4 gap-x-4 border rounded pr-3 bg-green-50 hover:shadow-lg transition duration-500\">\\n        <img src=\"/static/placeholder.png\" />\\n        <div class=\"col-span-3 space-y-3 py-3\">\\n            <h2 class=\"text-2xl text-green-900\">five others ago</h2>\\n            <div class=\"grid grid-cols-2 italic\">\\n                <p> 1997-12-22 </p>\\n                <p class=\"text-right\">By Mary Brock </p>\\n            </div>\\n            <p>Election energy good group. Reality soldier lay. Ready try hour cultural.\\nCulture early face west reflect live. Institution cell maybe energy civil.</p>\\n        </div>\\n    </div>\\n    \\n    <div class=\"grid grid-cols-4 gap-x-4 border rounded pr-3 bg-green-50 hover:shadow-lg transition duration-500\">\\n        <img src=\"/static/placeholder.png\" />\\n        <div class=\"col-span-3 space-y-3 py-3\">\\n            <h2 class=\"text-2xl text-green-900\">per woman rich</h2>\\n            <div class=\"grid grid-cols-2 italic\">\\n                <p> 1972-01-28 </p>\\n                <p class=\"text-right\">By John Brewer </p>\\n            </div>\\n            <p>Go member say main prove today owner. Wish administration realize break safe price out.\\nEvent trade expert building. Indicate food subject charge part.</p>\\n        </div>\\n    </div>\\n    \\n</div>\\n\\n</body>\\n</html>'"
      ]
     },
     "execution_count": 9,
     "metadata": {},
     "output_type": "execute_result"
    }
   ],
   "source": [
    "response = requests.get('https://web-scraping-demo.zgulde.net/news')\n",
    "html = response.text\n",
    "html"
   ]
  },
  {
   "cell_type": "markdown",
   "metadata": {},
   "source": [
    "We can make more sense of that html with the beautiful soup library."
   ]
  },
  {
   "cell_type": "code",
   "execution_count": 10,
   "metadata": {},
   "outputs": [
    {
     "data": {
      "text/plain": [
       "<!DOCTYPE html>\n",
       "<html lang=\"en\">\n",
       "<head>\n",
       "<meta charset=\"utf-8\"/>\n",
       "<meta content=\"IE=edge\" http-equiv=\"X-UA-Compatible\"/>\n",
       "<meta content=\"width=device-width, initial-scale=1.0\" name=\"viewport\"/>\n",
       "<title>News Example Page</title>\n",
       "<link href=\"https://unpkg.com/tailwindcss@^2/dist/tailwind.min.css\" rel=\"stylesheet\"/>\n",
       "<link href=\"https://cdn.jsdelivr.net/npm/bootstrap-icons@1.4.1/font/bootstrap-icons.css\" rel=\"stylesheet\"/>\n",
       "</head>\n",
       "<body class=\"mx-auto max-w-screen-lg pb-32\">\n",
       "<h1 class=\"my-5 text-4xl text-center\">News!</h1>\n",
       "<div class=\"my-5 text-red-800 px-5 py-3 bg-red-100 font-bold\">\n",
       "<p>\n",
       "<i class=\"bi bi-exclamation-circle text-xl\"></i>\n",
       "        All data on this page is strictly for demonstration purposes and fake.\n",
       "    </p>\n",
       "</div>\n",
       "<div class=\"grid gap-y-12\">\n",
       "<div class=\"grid grid-cols-4 gap-x-4 border rounded pr-3 bg-green-50 hover:shadow-lg transition duration-500\">\n",
       "<img src=\"/static/placeholder.png\"/>\n",
       "<div class=\"col-span-3 space-y-3 py-3\">\n",
       "<h2 class=\"text-2xl text-green-900\">employee detail federal</h2>\n",
       "<div class=\"grid grid-cols-2 italic\">\n",
       "<p> 1977-03-08 </p>\n",
       "<p class=\"text-right\">By Jessica King </p>\n",
       "</div>\n",
       "<p>Find leader month phone describe scene wait someone. Indeed rich off tonight fine and party.\n",
       "Through task interest. Detail real human camera.</p>\n",
       "</div>\n",
       "</div>\n",
       "<div class=\"grid grid-cols-4 gap-x-4 border rounded pr-3 bg-green-50 hover:shadow-lg transition duration-500\">\n",
       "<img src=\"/static/placeholder.png\"/>\n",
       "<div class=\"col-span-3 space-y-3 py-3\">\n",
       "<h2 class=\"text-2xl text-green-900\">blue process spend</h2>\n",
       "<div class=\"grid grid-cols-2 italic\">\n",
       "<p> 1997-10-01 </p>\n",
       "<p class=\"text-right\">By April Duncan </p>\n",
       "</div>\n",
       "<p>Cause on man north drive operation. Might ability building. Sense consider guess magazine south.\n",
       "Represent result work value too everyone different. High star guy wife sound seat chance who.</p>\n",
       "</div>\n",
       "</div>\n",
       "<div class=\"grid grid-cols-4 gap-x-4 border rounded pr-3 bg-green-50 hover:shadow-lg transition duration-500\">\n",
       "<img src=\"/static/placeholder.png\"/>\n",
       "<div class=\"col-span-3 space-y-3 py-3\">\n",
       "<h2 class=\"text-2xl text-green-900\">list standard throw</h2>\n",
       "<div class=\"grid grid-cols-2 italic\">\n",
       "<p> 1984-12-16 </p>\n",
       "<p class=\"text-right\">By Cindy Wood </p>\n",
       "</div>\n",
       "<p>End son son fund real local community. One degree behavior state.\n",
       "Shake inside long rock choice. Try seven evidence street financial.</p>\n",
       "</div>\n",
       "</div>\n",
       "<div class=\"grid grid-cols-4 gap-x-4 border rounded pr-3 bg-green-50 hover:shadow-lg transition duration-500\">\n",
       "<img src=\"/static/placeholder.png\"/>\n",
       "<div class=\"col-span-3 space-y-3 py-3\">\n",
       "<h2 class=\"text-2xl text-green-900\">during lawyer building</h2>\n",
       "<div class=\"grid grid-cols-2 italic\">\n",
       "<p> 1977-12-01 </p>\n",
       "<p class=\"text-right\">By Stephen Dunn </p>\n",
       "</div>\n",
       "<p>Leave control civil structure perform nation exactly. Size television dark investment.\n",
       "Necessary behind road fact physical. Day child weight effect. East either wind right Mr wish.</p>\n",
       "</div>\n",
       "</div>\n",
       "<div class=\"grid grid-cols-4 gap-x-4 border rounded pr-3 bg-green-50 hover:shadow-lg transition duration-500\">\n",
       "<img src=\"/static/placeholder.png\"/>\n",
       "<div class=\"col-span-3 space-y-3 py-3\">\n",
       "<h2 class=\"text-2xl text-green-900\">station treat design</h2>\n",
       "<div class=\"grid grid-cols-2 italic\">\n",
       "<p> 2020-02-01 </p>\n",
       "<p class=\"text-right\">By Linda Bryant </p>\n",
       "</div>\n",
       "<p>Once forget yourself news population. Go once window laugh. Might president ready actually I then those.\n",
       "Side million difference show.</p>\n",
       "</div>\n",
       "</div>\n",
       "<div class=\"grid grid-cols-4 gap-x-4 border rounded pr-3 bg-green-50 hover:shadow-lg transition duration-500\">\n",
       "<img src=\"/static/placeholder.png\"/>\n",
       "<div class=\"col-span-3 space-y-3 py-3\">\n",
       "<h2 class=\"text-2xl text-green-900\">cause coach easy</h2>\n",
       "<div class=\"grid grid-cols-2 italic\">\n",
       "<p> 1983-01-27 </p>\n",
       "<p class=\"text-right\">By Tom Lopez </p>\n",
       "</div>\n",
       "<p>Assume human well experience. Company rather call economic. Cut general hear candidate range answer.\n",
       "Spend record my certain fire cause. Organization sing card question prove arm ability.</p>\n",
       "</div>\n",
       "</div>\n",
       "<div class=\"grid grid-cols-4 gap-x-4 border rounded pr-3 bg-green-50 hover:shadow-lg transition duration-500\">\n",
       "<img src=\"/static/placeholder.png\"/>\n",
       "<div class=\"col-span-3 space-y-3 py-3\">\n",
       "<h2 class=\"text-2xl text-green-900\">official reflect ground</h2>\n",
       "<div class=\"grid grid-cols-2 italic\">\n",
       "<p> 1988-06-09 </p>\n",
       "<p class=\"text-right\">By Richard Levy </p>\n",
       "</div>\n",
       "<p>Training blue let mention wind difference. Born center little compare ask challenge.\n",
       "Suddenly figure for throw. Need need set remember me customer north try. Know collection never support employee somebody.</p>\n",
       "</div>\n",
       "</div>\n",
       "<div class=\"grid grid-cols-4 gap-x-4 border rounded pr-3 bg-green-50 hover:shadow-lg transition duration-500\">\n",
       "<img src=\"/static/placeholder.png\"/>\n",
       "<div class=\"col-span-3 space-y-3 py-3\">\n",
       "<h2 class=\"text-2xl text-green-900\">add have why</h2>\n",
       "<div class=\"grid grid-cols-2 italic\">\n",
       "<p> 1981-09-24 </p>\n",
       "<p class=\"text-right\">By Christine Harrison </p>\n",
       "</div>\n",
       "<p>Keep beautiful western. Mean rate onto both item game inside.\n",
       "Sense usually right specific tend. Professor central wall standard interview important response. Manage customer leave economic.</p>\n",
       "</div>\n",
       "</div>\n",
       "<div class=\"grid grid-cols-4 gap-x-4 border rounded pr-3 bg-green-50 hover:shadow-lg transition duration-500\">\n",
       "<img src=\"/static/placeholder.png\"/>\n",
       "<div class=\"col-span-3 space-y-3 py-3\">\n",
       "<h2 class=\"text-2xl text-green-900\">goal picture himself</h2>\n",
       "<div class=\"grid grid-cols-2 italic\">\n",
       "<p> 1993-10-03 </p>\n",
       "<p class=\"text-right\">By Rachael Dunn </p>\n",
       "</div>\n",
       "<p>Owner word minute wall possible.\n",
       "Trade middle level picture.</p>\n",
       "</div>\n",
       "</div>\n",
       "<div class=\"grid grid-cols-4 gap-x-4 border rounded pr-3 bg-green-50 hover:shadow-lg transition duration-500\">\n",
       "<img src=\"/static/placeholder.png\"/>\n",
       "<div class=\"col-span-3 space-y-3 py-3\">\n",
       "<h2 class=\"text-2xl text-green-900\">nature civil manager</h2>\n",
       "<div class=\"grid grid-cols-2 italic\">\n",
       "<p> 1995-01-26 </p>\n",
       "<p class=\"text-right\">By Steven Thomas </p>\n",
       "</div>\n",
       "<p>Bed wife kind. Body agency station just fly.\n",
       "Hope ground science table.</p>\n",
       "</div>\n",
       "</div>\n",
       "<div class=\"grid grid-cols-4 gap-x-4 border rounded pr-3 bg-green-50 hover:shadow-lg transition duration-500\">\n",
       "<img src=\"/static/placeholder.png\"/>\n",
       "<div class=\"col-span-3 space-y-3 py-3\">\n",
       "<h2 class=\"text-2xl text-green-900\">five others ago</h2>\n",
       "<div class=\"grid grid-cols-2 italic\">\n",
       "<p> 1997-12-22 </p>\n",
       "<p class=\"text-right\">By Mary Brock </p>\n",
       "</div>\n",
       "<p>Election energy good group. Reality soldier lay. Ready try hour cultural.\n",
       "Culture early face west reflect live. Institution cell maybe energy civil.</p>\n",
       "</div>\n",
       "</div>\n",
       "<div class=\"grid grid-cols-4 gap-x-4 border rounded pr-3 bg-green-50 hover:shadow-lg transition duration-500\">\n",
       "<img src=\"/static/placeholder.png\"/>\n",
       "<div class=\"col-span-3 space-y-3 py-3\">\n",
       "<h2 class=\"text-2xl text-green-900\">per woman rich</h2>\n",
       "<div class=\"grid grid-cols-2 italic\">\n",
       "<p> 1972-01-28 </p>\n",
       "<p class=\"text-right\">By John Brewer </p>\n",
       "</div>\n",
       "<p>Go member say main prove today owner. Wish administration realize break safe price out.\n",
       "Event trade expert building. Indicate food subject charge part.</p>\n",
       "</div>\n",
       "</div>\n",
       "</div>\n",
       "</body>\n",
       "</html>"
      ]
     },
     "execution_count": 10,
     "metadata": {},
     "output_type": "execute_result"
    }
   ],
   "source": [
    "soup = BeautifulSoup(html)\n",
    "soup"
   ]
  },
  {
   "cell_type": "markdown",
   "metadata": {},
   "source": [
    "From here we can switch between the browser and python and try out different ways of getting different parts of the html document.\n",
    "\n",
    "We can leverage Google Chrome's developer tools by right clicking and choosing \"Inspect\". We can then use this html document inspector to help us with our web scraping."
   ]
  },
  {
   "cell_type": "code",
   "execution_count": 11,
   "metadata": {},
   "outputs": [
    {
     "data": {
      "text/plain": [
       "[<p> 1977-03-08 </p>, <p class=\"text-right\">By Jessica King </p>]"
      ]
     },
     "execution_count": 11,
     "metadata": {},
     "output_type": "execute_result"
    }
   ],
   "source": [
    "articles = soup.select('.grid.grid-cols-4.gap-x-4.border')\n",
    "articles[0].select('.italic')[0].select('p')"
   ]
  },
  {
   "cell_type": "code",
   "execution_count": 132,
   "metadata": {
    "scrolled": true
   },
   "outputs": [
    {
     "data": {
      "text/plain": [
       "<div class=\"grid grid-cols-4 gap-x-4 border rounded pr-3 bg-green-50 hover:shadow-lg transition duration-500\">\n",
       "<img src=\"/static/placeholder.png\"/>\n",
       "<div class=\"col-span-3 space-y-3 py-3\">\n",
       "<h2 class=\"text-2xl text-green-900\">employee detail federal</h2>\n",
       "<div class=\"grid grid-cols-2 italic\">\n",
       "<p> 1977-03-08 </p>\n",
       "<p class=\"text-right\">By Jessica King </p>\n",
       "</div>\n",
       "<p>Find leader month phone describe scene wait someone. Indeed rich off tonight fine and party.\n",
       "Through task interest. Detail real human camera.</p>\n",
       "</div>\n",
       "</div>"
      ]
     },
     "execution_count": 132,
     "metadata": {},
     "output_type": "execute_result"
    }
   ],
   "source": [
    "articles[0]"
   ]
  },
  {
   "cell_type": "code",
   "execution_count": 155,
   "metadata": {
    "scrolled": true
   },
   "outputs": [
    {
     "data": {
      "text/plain": [
       "'By Jessica King '"
      ]
     },
     "execution_count": 155,
     "metadata": {},
     "output_type": "execute_result"
    }
   ],
   "source": [
    "articles[0].select('.italic')[0].select('p')[1].text"
   ]
  },
  {
   "cell_type": "markdown",
   "metadata": {},
   "source": [
    "Bringing it all together:"
   ]
  },
  {
   "cell_type": "code",
   "execution_count": 12,
   "metadata": {},
   "outputs": [
    {
     "data": {
      "text/html": [
       "<div>\n",
       "<style scoped>\n",
       "    .dataframe tbody tr th:only-of-type {\n",
       "        vertical-align: middle;\n",
       "    }\n",
       "\n",
       "    .dataframe tbody tr th {\n",
       "        vertical-align: top;\n",
       "    }\n",
       "\n",
       "    .dataframe thead th {\n",
       "        text-align: right;\n",
       "    }\n",
       "</style>\n",
       "<table border=\"1\" class=\"dataframe\">\n",
       "  <thead>\n",
       "    <tr style=\"text-align: right;\">\n",
       "      <th></th>\n",
       "      <th>title</th>\n",
       "      <th>date</th>\n",
       "      <th>author</th>\n",
       "    </tr>\n",
       "  </thead>\n",
       "  <tbody>\n",
       "    <tr>\n",
       "      <th>0</th>\n",
       "      <td>employee detail federal</td>\n",
       "      <td>1977-03-08</td>\n",
       "      <td>By Jessica King</td>\n",
       "    </tr>\n",
       "    <tr>\n",
       "      <th>1</th>\n",
       "      <td>blue process spend</td>\n",
       "      <td>1977-03-08</td>\n",
       "      <td>By Jessica King</td>\n",
       "    </tr>\n",
       "    <tr>\n",
       "      <th>2</th>\n",
       "      <td>list standard throw</td>\n",
       "      <td>1977-03-08</td>\n",
       "      <td>By Jessica King</td>\n",
       "    </tr>\n",
       "    <tr>\n",
       "      <th>3</th>\n",
       "      <td>during lawyer building</td>\n",
       "      <td>1977-03-08</td>\n",
       "      <td>By Jessica King</td>\n",
       "    </tr>\n",
       "    <tr>\n",
       "      <th>4</th>\n",
       "      <td>station treat design</td>\n",
       "      <td>1977-03-08</td>\n",
       "      <td>By Jessica King</td>\n",
       "    </tr>\n",
       "    <tr>\n",
       "      <th>5</th>\n",
       "      <td>cause coach easy</td>\n",
       "      <td>1977-03-08</td>\n",
       "      <td>By Jessica King</td>\n",
       "    </tr>\n",
       "    <tr>\n",
       "      <th>6</th>\n",
       "      <td>official reflect ground</td>\n",
       "      <td>1977-03-08</td>\n",
       "      <td>By Jessica King</td>\n",
       "    </tr>\n",
       "    <tr>\n",
       "      <th>7</th>\n",
       "      <td>add have why</td>\n",
       "      <td>1977-03-08</td>\n",
       "      <td>By Jessica King</td>\n",
       "    </tr>\n",
       "    <tr>\n",
       "      <th>8</th>\n",
       "      <td>goal picture himself</td>\n",
       "      <td>1977-03-08</td>\n",
       "      <td>By Jessica King</td>\n",
       "    </tr>\n",
       "    <tr>\n",
       "      <th>9</th>\n",
       "      <td>nature civil manager</td>\n",
       "      <td>1977-03-08</td>\n",
       "      <td>By Jessica King</td>\n",
       "    </tr>\n",
       "    <tr>\n",
       "      <th>10</th>\n",
       "      <td>five others ago</td>\n",
       "      <td>1977-03-08</td>\n",
       "      <td>By Jessica King</td>\n",
       "    </tr>\n",
       "    <tr>\n",
       "      <th>11</th>\n",
       "      <td>per woman rich</td>\n",
       "      <td>1977-03-08</td>\n",
       "      <td>By Jessica King</td>\n",
       "    </tr>\n",
       "  </tbody>\n",
       "</table>\n",
       "</div>"
      ],
      "text/plain": [
       "                      title          date            author\n",
       "0   employee detail federal   1977-03-08   By Jessica King \n",
       "1        blue process spend   1977-03-08   By Jessica King \n",
       "2       list standard throw   1977-03-08   By Jessica King \n",
       "3    during lawyer building   1977-03-08   By Jessica King \n",
       "4      station treat design   1977-03-08   By Jessica King \n",
       "5          cause coach easy   1977-03-08   By Jessica King \n",
       "6   official reflect ground   1977-03-08   By Jessica King \n",
       "7              add have why   1977-03-08   By Jessica King \n",
       "8      goal picture himself   1977-03-08   By Jessica King \n",
       "9      nature civil manager   1977-03-08   By Jessica King \n",
       "10          five others ago   1977-03-08   By Jessica King \n",
       "11           per woman rich   1977-03-08   By Jessica King "
      ]
     },
     "execution_count": 12,
     "metadata": {},
     "output_type": "execute_result"
    }
   ],
   "source": [
    "def process_article(article):\n",
    "    date, author = articles[0].select('.italic')[0].select('p')\n",
    "    return {\n",
    "        'title': article.h2.text,\n",
    "        'date': date.text,\n",
    "        'author': author.text\n",
    "    }\n",
    "\n",
    "pd.DataFrame([process_article(article) for article in articles])"
   ]
  },
  {
   "cell_type": "markdown",
   "metadata": {},
   "source": [
    "---\n",
    "\n",
    "### People"
   ]
  },
  {
   "cell_type": "code",
   "execution_count": 92,
   "metadata": {
    "scrolled": true
   },
   "outputs": [
    {
     "data": {
      "text/plain": [
       "'<!DOCTYPE html>\\n<html lang=\"en\">\\n<head>\\n    <meta charset=\"UTF-8\">\\n    <meta http-equiv=\"X-UA-Compatible\" content=\"IE=edge\">\\n    <meta name=\"viewport\" content=\"width=device-width, initial-scale=1.0\">\\n    <title>Example People Page</title>\\n    <link href=\"https://unpkg.com/tailwindcss@^2/dist/tailwind.min.css\" rel=\"stylesheet\" />\\n    <link rel=\"stylesheet\" href=\"https://cdn.jsdelivr.net/npm/bootstrap-icons@1.4.1/font/bootstrap-icons.css\" />\\n</head>\\n<body class=\"mx-auto max-w-screen-lg pb-32\">\\n    \\n<h1 class=\"my-5 text-4xl text-center\">People</h1>\\n\\n<div class=\"my-5 text-red-800 px-5 py-3 bg-red-100 font-bold\">\\n    <p>\\n        <i class=\"bi bi-exclamation-circle text-xl\"></i>\\n        All data on this page is strictly for demonstration purposes and fake.\\n    </p>\\n</div>\\n\\n<div id=\"people\" class=\"grid grid-cols-2 gap-x-12 gap-y-16\">\\n    \\n    <div class=\"person border rounded px-3 py-5 grid grid-cols-2 gap-x-3 bg-purple-50 hover:shadow-lg transition duration-500\">\\n        <h2 class=\"text-2xl text-purple-800 name col-span-full border-b\">Brenda Sherman</h2>\\n        <p class=\"quote col-span-full px-5 py-5 text-center text-gray-500\">\\n            \"Customer-focused grid-enabled Graphical User Interface\"\\n        </p>\\n        <div class=\"grid grid-cols-9\">\\n            <i class=\"bi bi-envelope-fill text-purple-800\"></i>\\n            <p class=\"email col-span-8\">tracirobertson@brown.info</p>\\n            <i class=\"bi bi-telephone-fill text-purple-800\"></i>\\n            <p class=\"phone col-span-8\">744-276-9026</p>\\n        </div>\\n        <div class=\"address grid grid-cols-9\">\\n            <i class=\"bi bi-geo-fill text-purple-800\"></i>\\n            <p class=\"col-span-8\">\\n                3147 Mathis Meadow <br />\\n                Port Connie, MO 78830\\n            </p>\\n        </div>\\n    </div>\\n    \\n    <div class=\"person border rounded px-3 py-5 grid grid-cols-2 gap-x-3 bg-purple-50 hover:shadow-lg transition duration-500\">\\n        <h2 class=\"text-2xl text-purple-800 name col-span-full border-b\">Paula Byrd</h2>\\n        <p class=\"quote col-span-full px-5 py-5 text-center text-gray-500\">\\n            \"Devolved fresh-thinking capability\"\\n        </p>\\n        <div class=\"grid grid-cols-9\">\\n            <i class=\"bi bi-envelope-fill text-purple-800\"></i>\\n            <p class=\"email col-span-8\">lancemyers@hotmail.com</p>\\n            <i class=\"bi bi-telephone-fill text-purple-800\"></i>\\n            <p class=\"phone col-span-8\">728.774.6493</p>\\n        </div>\\n        <div class=\"address grid grid-cols-9\">\\n            <i class=\"bi bi-geo-fill text-purple-800\"></i>\\n            <p class=\"col-span-8\">\\n                48901 Jill Overpass Suite 211 <br />\\n                North Kyle, MS 09433\\n            </p>\\n        </div>\\n    </div>\\n    \\n    <div class=\"person border rounded px-3 py-5 grid grid-cols-2 gap-x-3 bg-purple-50 hover:shadow-lg transition duration-500\">\\n        <h2 class=\"text-2xl text-purple-800 name col-span-full border-b\">Kimberly Rodriguez</h2>\\n        <p class=\"quote col-span-full px-5 py-5 text-center text-gray-500\">\\n            \"Multi-channeled bottom-line data-warehouse\"\\n        </p>\\n        <div class=\"grid grid-cols-9\">\\n            <i class=\"bi bi-envelope-fill text-purple-800\"></i>\\n            <p class=\"email col-span-8\">annawilson@molina.com</p>\\n            <i class=\"bi bi-telephone-fill text-purple-800\"></i>\\n            <p class=\"phone col-span-8\">529.841.9273x2629</p>\\n        </div>\\n        <div class=\"address grid grid-cols-9\">\\n            <i class=\"bi bi-geo-fill text-purple-800\"></i>\\n            <p class=\"col-span-8\">\\n                8819 Tanner Ports Suite 051 <br />\\n                Lake Cristianville, CT 44250\\n            </p>\\n        </div>\\n    </div>\\n    \\n    <div class=\"person border rounded px-3 py-5 grid grid-cols-2 gap-x-3 bg-purple-50 hover:shadow-lg transition duration-500\">\\n        <h2 class=\"text-2xl text-purple-800 name col-span-full border-b\">Lori Jenkins</h2>\\n        <p class=\"quote col-span-full px-5 py-5 text-center text-gray-500\">\\n            \"Operative even-keeled matrices\"\\n        </p>\\n        <div class=\"grid grid-cols-9\">\\n            <i class=\"bi bi-envelope-fill text-purple-800\"></i>\\n            <p class=\"email col-span-8\">jessica64@boyd-fuller.net</p>\\n            <i class=\"bi bi-telephone-fill text-purple-800\"></i>\\n            <p class=\"phone col-span-8\">(065)633-1922x47399</p>\\n        </div>\\n        <div class=\"address grid grid-cols-9\">\\n            <i class=\"bi bi-geo-fill text-purple-800\"></i>\\n            <p class=\"col-span-8\">\\n                315 Brittney Groves Suite 999 <br />\\n                Lake John, SC 26298\\n            </p>\\n        </div>\\n    </div>\\n    \\n    <div class=\"person border rounded px-3 py-5 grid grid-cols-2 gap-x-3 bg-purple-50 hover:shadow-lg transition duration-500\">\\n        <h2 class=\"text-2xl text-purple-800 name col-span-full border-b\">Alicia Johnson</h2>\\n        <p class=\"quote col-span-full px-5 py-5 text-center text-gray-500\">\\n            \"Stand-alone client-driven Graphic Interface\"\\n        </p>\\n        <div class=\"grid grid-cols-9\">\\n            <i class=\"bi bi-envelope-fill text-purple-800\"></i>\\n            <p class=\"email col-span-8\">parkerdavid@gmail.com</p>\\n            <i class=\"bi bi-telephone-fill text-purple-800\"></i>\\n            <p class=\"phone col-span-8\">931-053-3242</p>\\n        </div>\\n        <div class=\"address grid grid-cols-9\">\\n            <i class=\"bi bi-geo-fill text-purple-800\"></i>\\n            <p class=\"col-span-8\">\\n                75825 Danielle Springs Suite 162 <br />\\n                North Baileymouth, IL 91314\\n            </p>\\n        </div>\\n    </div>\\n    \\n    <div class=\"person border rounded px-3 py-5 grid grid-cols-2 gap-x-3 bg-purple-50 hover:shadow-lg transition duration-500\">\\n        <h2 class=\"text-2xl text-purple-800 name col-span-full border-b\">James Jackson</h2>\\n        <p class=\"quote col-span-full px-5 py-5 text-center text-gray-500\">\\n            \"Pre-emptive intermediate application\"\\n        </p>\\n        <div class=\"grid grid-cols-9\">\\n            <i class=\"bi bi-envelope-fill text-purple-800\"></i>\\n            <p class=\"email col-span-8\">lopezmatthew@morgan.com</p>\\n            <i class=\"bi bi-telephone-fill text-purple-800\"></i>\\n            <p class=\"phone col-span-8\">(007)212-9435</p>\\n        </div>\\n        <div class=\"address grid grid-cols-9\">\\n            <i class=\"bi bi-geo-fill text-purple-800\"></i>\\n            <p class=\"col-span-8\">\\n                8566 Michael Estates <br />\\n                Marktown, RI 09236\\n            </p>\\n        </div>\\n    </div>\\n    \\n    <div class=\"person border rounded px-3 py-5 grid grid-cols-2 gap-x-3 bg-purple-50 hover:shadow-lg transition duration-500\">\\n        <h2 class=\"text-2xl text-purple-800 name col-span-full border-b\">Timothy Montes</h2>\\n        <p class=\"quote col-span-full px-5 py-5 text-center text-gray-500\">\\n            \"Synergistic regional Internet solution\"\\n        </p>\\n        <div class=\"grid grid-cols-9\">\\n            <i class=\"bi bi-envelope-fill text-purple-800\"></i>\\n            <p class=\"email col-span-8\">adamsmichelle@gmail.com</p>\\n            <i class=\"bi bi-telephone-fill text-purple-800\"></i>\\n            <p class=\"phone col-span-8\">(189)028-6619x546</p>\\n        </div>\\n        <div class=\"address grid grid-cols-9\">\\n            <i class=\"bi bi-geo-fill text-purple-800\"></i>\\n            <p class=\"col-span-8\">\\n                8928 Gomez Wells Apt. 206 <br />\\n                Lake Coryport, AL 13719\\n            </p>\\n        </div>\\n    </div>\\n    \\n    <div class=\"person border rounded px-3 py-5 grid grid-cols-2 gap-x-3 bg-purple-50 hover:shadow-lg transition duration-500\">\\n        <h2 class=\"text-2xl text-purple-800 name col-span-full border-b\">Matthew Pittman</h2>\\n        <p class=\"quote col-span-full px-5 py-5 text-center text-gray-500\">\\n            \"Configurable attitude-oriented initiative\"\\n        </p>\\n        <div class=\"grid grid-cols-9\">\\n            <i class=\"bi bi-envelope-fill text-purple-800\"></i>\\n            <p class=\"email col-span-8\">cassandragarcia@gmail.com</p>\\n            <i class=\"bi bi-telephone-fill text-purple-800\"></i>\\n            <p class=\"phone col-span-8\">8786441803</p>\\n        </div>\\n        <div class=\"address grid grid-cols-9\">\\n            <i class=\"bi bi-geo-fill text-purple-800\"></i>\\n            <p class=\"col-span-8\">\\n                41334 Cheryl Parkway Apt. 986 <br />\\n                Jerryburgh, MN 67589\\n            </p>\\n        </div>\\n    </div>\\n    \\n    <div class=\"person border rounded px-3 py-5 grid grid-cols-2 gap-x-3 bg-purple-50 hover:shadow-lg transition duration-500\">\\n        <h2 class=\"text-2xl text-purple-800 name col-span-full border-b\">Wendy Perry</h2>\\n        <p class=\"quote col-span-full px-5 py-5 text-center text-gray-500\">\\n            \"Cross-group next generation alliance\"\\n        </p>\\n        <div class=\"grid grid-cols-9\">\\n            <i class=\"bi bi-envelope-fill text-purple-800\"></i>\\n            <p class=\"email col-span-8\">amy55@ramirez.net</p>\\n            <i class=\"bi bi-telephone-fill text-purple-800\"></i>\\n            <p class=\"phone col-span-8\">539-650-0966x625</p>\\n        </div>\\n        <div class=\"address grid grid-cols-9\">\\n            <i class=\"bi bi-geo-fill text-purple-800\"></i>\\n            <p class=\"col-span-8\">\\n                43737 Jones Spur <br />\\n                Lake Samanthaside, VT 97990\\n            </p>\\n        </div>\\n    </div>\\n    \\n    <div class=\"person border rounded px-3 py-5 grid grid-cols-2 gap-x-3 bg-purple-50 hover:shadow-lg transition duration-500\">\\n        <h2 class=\"text-2xl text-purple-800 name col-span-full border-b\">Melissa Lloyd</h2>\\n        <p class=\"quote col-span-full px-5 py-5 text-center text-gray-500\">\\n            \"Configurable holistic attitude\"\\n        </p>\\n        <div class=\"grid grid-cols-9\">\\n            <i class=\"bi bi-envelope-fill text-purple-800\"></i>\\n            <p class=\"email col-span-8\">patricia06@brewer-smith.com</p>\\n            <i class=\"bi bi-telephone-fill text-purple-800\"></i>\\n            <p class=\"phone col-span-8\">148.961.1202x226</p>\\n        </div>\\n        <div class=\"address grid grid-cols-9\">\\n            <i class=\"bi bi-geo-fill text-purple-800\"></i>\\n            <p class=\"col-span-8\">\\n                6851 Jonathan Square <br />\\n                Smithfurt, NH 35810\\n            </p>\\n        </div>\\n    </div>\\n    \\n</div>\\n\\n</body>\\n</html>'"
      ]
     },
     "execution_count": 92,
     "metadata": {},
     "output_type": "execute_result"
    }
   ],
   "source": [
    "response = requests.get('https://web-scraping-demo.zgulde.net/people')\n",
    "people = response.text\n",
    "people"
   ]
  },
  {
   "cell_type": "code",
   "execution_count": 93,
   "metadata": {
    "scrolled": true
   },
   "outputs": [
    {
     "data": {
      "text/plain": [
       "<!DOCTYPE html>\n",
       "<html lang=\"en\">\n",
       "<head>\n",
       "<meta charset=\"utf-8\"/>\n",
       "<meta content=\"IE=edge\" http-equiv=\"X-UA-Compatible\"/>\n",
       "<meta content=\"width=device-width, initial-scale=1.0\" name=\"viewport\"/>\n",
       "<title>Example People Page</title>\n",
       "<link href=\"https://unpkg.com/tailwindcss@^2/dist/tailwind.min.css\" rel=\"stylesheet\"/>\n",
       "<link href=\"https://cdn.jsdelivr.net/npm/bootstrap-icons@1.4.1/font/bootstrap-icons.css\" rel=\"stylesheet\"/>\n",
       "</head>\n",
       "<body class=\"mx-auto max-w-screen-lg pb-32\">\n",
       "<h1 class=\"my-5 text-4xl text-center\">People</h1>\n",
       "<div class=\"my-5 text-red-800 px-5 py-3 bg-red-100 font-bold\">\n",
       "<p>\n",
       "<i class=\"bi bi-exclamation-circle text-xl\"></i>\n",
       "        All data on this page is strictly for demonstration purposes and fake.\n",
       "    </p>\n",
       "</div>\n",
       "<div class=\"grid grid-cols-2 gap-x-12 gap-y-16\" id=\"people\">\n",
       "<div class=\"person border rounded px-3 py-5 grid grid-cols-2 gap-x-3 bg-purple-50 hover:shadow-lg transition duration-500\">\n",
       "<h2 class=\"text-2xl text-purple-800 name col-span-full border-b\">Brenda Sherman</h2>\n",
       "<p class=\"quote col-span-full px-5 py-5 text-center text-gray-500\">\n",
       "            \"Customer-focused grid-enabled Graphical User Interface\"\n",
       "        </p>\n",
       "<div class=\"grid grid-cols-9\">\n",
       "<i class=\"bi bi-envelope-fill text-purple-800\"></i>\n",
       "<p class=\"email col-span-8\">tracirobertson@brown.info</p>\n",
       "<i class=\"bi bi-telephone-fill text-purple-800\"></i>\n",
       "<p class=\"phone col-span-8\">744-276-9026</p>\n",
       "</div>\n",
       "<div class=\"address grid grid-cols-9\">\n",
       "<i class=\"bi bi-geo-fill text-purple-800\"></i>\n",
       "<p class=\"col-span-8\">\n",
       "                3147 Mathis Meadow <br/>\n",
       "                Port Connie, MO 78830\n",
       "            </p>\n",
       "</div>\n",
       "</div>\n",
       "<div class=\"person border rounded px-3 py-5 grid grid-cols-2 gap-x-3 bg-purple-50 hover:shadow-lg transition duration-500\">\n",
       "<h2 class=\"text-2xl text-purple-800 name col-span-full border-b\">Paula Byrd</h2>\n",
       "<p class=\"quote col-span-full px-5 py-5 text-center text-gray-500\">\n",
       "            \"Devolved fresh-thinking capability\"\n",
       "        </p>\n",
       "<div class=\"grid grid-cols-9\">\n",
       "<i class=\"bi bi-envelope-fill text-purple-800\"></i>\n",
       "<p class=\"email col-span-8\">lancemyers@hotmail.com</p>\n",
       "<i class=\"bi bi-telephone-fill text-purple-800\"></i>\n",
       "<p class=\"phone col-span-8\">728.774.6493</p>\n",
       "</div>\n",
       "<div class=\"address grid grid-cols-9\">\n",
       "<i class=\"bi bi-geo-fill text-purple-800\"></i>\n",
       "<p class=\"col-span-8\">\n",
       "                48901 Jill Overpass Suite 211 <br/>\n",
       "                North Kyle, MS 09433\n",
       "            </p>\n",
       "</div>\n",
       "</div>\n",
       "<div class=\"person border rounded px-3 py-5 grid grid-cols-2 gap-x-3 bg-purple-50 hover:shadow-lg transition duration-500\">\n",
       "<h2 class=\"text-2xl text-purple-800 name col-span-full border-b\">Kimberly Rodriguez</h2>\n",
       "<p class=\"quote col-span-full px-5 py-5 text-center text-gray-500\">\n",
       "            \"Multi-channeled bottom-line data-warehouse\"\n",
       "        </p>\n",
       "<div class=\"grid grid-cols-9\">\n",
       "<i class=\"bi bi-envelope-fill text-purple-800\"></i>\n",
       "<p class=\"email col-span-8\">annawilson@molina.com</p>\n",
       "<i class=\"bi bi-telephone-fill text-purple-800\"></i>\n",
       "<p class=\"phone col-span-8\">529.841.9273x2629</p>\n",
       "</div>\n",
       "<div class=\"address grid grid-cols-9\">\n",
       "<i class=\"bi bi-geo-fill text-purple-800\"></i>\n",
       "<p class=\"col-span-8\">\n",
       "                8819 Tanner Ports Suite 051 <br/>\n",
       "                Lake Cristianville, CT 44250\n",
       "            </p>\n",
       "</div>\n",
       "</div>\n",
       "<div class=\"person border rounded px-3 py-5 grid grid-cols-2 gap-x-3 bg-purple-50 hover:shadow-lg transition duration-500\">\n",
       "<h2 class=\"text-2xl text-purple-800 name col-span-full border-b\">Lori Jenkins</h2>\n",
       "<p class=\"quote col-span-full px-5 py-5 text-center text-gray-500\">\n",
       "            \"Operative even-keeled matrices\"\n",
       "        </p>\n",
       "<div class=\"grid grid-cols-9\">\n",
       "<i class=\"bi bi-envelope-fill text-purple-800\"></i>\n",
       "<p class=\"email col-span-8\">jessica64@boyd-fuller.net</p>\n",
       "<i class=\"bi bi-telephone-fill text-purple-800\"></i>\n",
       "<p class=\"phone col-span-8\">(065)633-1922x47399</p>\n",
       "</div>\n",
       "<div class=\"address grid grid-cols-9\">\n",
       "<i class=\"bi bi-geo-fill text-purple-800\"></i>\n",
       "<p class=\"col-span-8\">\n",
       "                315 Brittney Groves Suite 999 <br/>\n",
       "                Lake John, SC 26298\n",
       "            </p>\n",
       "</div>\n",
       "</div>\n",
       "<div class=\"person border rounded px-3 py-5 grid grid-cols-2 gap-x-3 bg-purple-50 hover:shadow-lg transition duration-500\">\n",
       "<h2 class=\"text-2xl text-purple-800 name col-span-full border-b\">Alicia Johnson</h2>\n",
       "<p class=\"quote col-span-full px-5 py-5 text-center text-gray-500\">\n",
       "            \"Stand-alone client-driven Graphic Interface\"\n",
       "        </p>\n",
       "<div class=\"grid grid-cols-9\">\n",
       "<i class=\"bi bi-envelope-fill text-purple-800\"></i>\n",
       "<p class=\"email col-span-8\">parkerdavid@gmail.com</p>\n",
       "<i class=\"bi bi-telephone-fill text-purple-800\"></i>\n",
       "<p class=\"phone col-span-8\">931-053-3242</p>\n",
       "</div>\n",
       "<div class=\"address grid grid-cols-9\">\n",
       "<i class=\"bi bi-geo-fill text-purple-800\"></i>\n",
       "<p class=\"col-span-8\">\n",
       "                75825 Danielle Springs Suite 162 <br/>\n",
       "                North Baileymouth, IL 91314\n",
       "            </p>\n",
       "</div>\n",
       "</div>\n",
       "<div class=\"person border rounded px-3 py-5 grid grid-cols-2 gap-x-3 bg-purple-50 hover:shadow-lg transition duration-500\">\n",
       "<h2 class=\"text-2xl text-purple-800 name col-span-full border-b\">James Jackson</h2>\n",
       "<p class=\"quote col-span-full px-5 py-5 text-center text-gray-500\">\n",
       "            \"Pre-emptive intermediate application\"\n",
       "        </p>\n",
       "<div class=\"grid grid-cols-9\">\n",
       "<i class=\"bi bi-envelope-fill text-purple-800\"></i>\n",
       "<p class=\"email col-span-8\">lopezmatthew@morgan.com</p>\n",
       "<i class=\"bi bi-telephone-fill text-purple-800\"></i>\n",
       "<p class=\"phone col-span-8\">(007)212-9435</p>\n",
       "</div>\n",
       "<div class=\"address grid grid-cols-9\">\n",
       "<i class=\"bi bi-geo-fill text-purple-800\"></i>\n",
       "<p class=\"col-span-8\">\n",
       "                8566 Michael Estates <br/>\n",
       "                Marktown, RI 09236\n",
       "            </p>\n",
       "</div>\n",
       "</div>\n",
       "<div class=\"person border rounded px-3 py-5 grid grid-cols-2 gap-x-3 bg-purple-50 hover:shadow-lg transition duration-500\">\n",
       "<h2 class=\"text-2xl text-purple-800 name col-span-full border-b\">Timothy Montes</h2>\n",
       "<p class=\"quote col-span-full px-5 py-5 text-center text-gray-500\">\n",
       "            \"Synergistic regional Internet solution\"\n",
       "        </p>\n",
       "<div class=\"grid grid-cols-9\">\n",
       "<i class=\"bi bi-envelope-fill text-purple-800\"></i>\n",
       "<p class=\"email col-span-8\">adamsmichelle@gmail.com</p>\n",
       "<i class=\"bi bi-telephone-fill text-purple-800\"></i>\n",
       "<p class=\"phone col-span-8\">(189)028-6619x546</p>\n",
       "</div>\n",
       "<div class=\"address grid grid-cols-9\">\n",
       "<i class=\"bi bi-geo-fill text-purple-800\"></i>\n",
       "<p class=\"col-span-8\">\n",
       "                8928 Gomez Wells Apt. 206 <br/>\n",
       "                Lake Coryport, AL 13719\n",
       "            </p>\n",
       "</div>\n",
       "</div>\n",
       "<div class=\"person border rounded px-3 py-5 grid grid-cols-2 gap-x-3 bg-purple-50 hover:shadow-lg transition duration-500\">\n",
       "<h2 class=\"text-2xl text-purple-800 name col-span-full border-b\">Matthew Pittman</h2>\n",
       "<p class=\"quote col-span-full px-5 py-5 text-center text-gray-500\">\n",
       "            \"Configurable attitude-oriented initiative\"\n",
       "        </p>\n",
       "<div class=\"grid grid-cols-9\">\n",
       "<i class=\"bi bi-envelope-fill text-purple-800\"></i>\n",
       "<p class=\"email col-span-8\">cassandragarcia@gmail.com</p>\n",
       "<i class=\"bi bi-telephone-fill text-purple-800\"></i>\n",
       "<p class=\"phone col-span-8\">8786441803</p>\n",
       "</div>\n",
       "<div class=\"address grid grid-cols-9\">\n",
       "<i class=\"bi bi-geo-fill text-purple-800\"></i>\n",
       "<p class=\"col-span-8\">\n",
       "                41334 Cheryl Parkway Apt. 986 <br/>\n",
       "                Jerryburgh, MN 67589\n",
       "            </p>\n",
       "</div>\n",
       "</div>\n",
       "<div class=\"person border rounded px-3 py-5 grid grid-cols-2 gap-x-3 bg-purple-50 hover:shadow-lg transition duration-500\">\n",
       "<h2 class=\"text-2xl text-purple-800 name col-span-full border-b\">Wendy Perry</h2>\n",
       "<p class=\"quote col-span-full px-5 py-5 text-center text-gray-500\">\n",
       "            \"Cross-group next generation alliance\"\n",
       "        </p>\n",
       "<div class=\"grid grid-cols-9\">\n",
       "<i class=\"bi bi-envelope-fill text-purple-800\"></i>\n",
       "<p class=\"email col-span-8\">amy55@ramirez.net</p>\n",
       "<i class=\"bi bi-telephone-fill text-purple-800\"></i>\n",
       "<p class=\"phone col-span-8\">539-650-0966x625</p>\n",
       "</div>\n",
       "<div class=\"address grid grid-cols-9\">\n",
       "<i class=\"bi bi-geo-fill text-purple-800\"></i>\n",
       "<p class=\"col-span-8\">\n",
       "                43737 Jones Spur <br/>\n",
       "                Lake Samanthaside, VT 97990\n",
       "            </p>\n",
       "</div>\n",
       "</div>\n",
       "<div class=\"person border rounded px-3 py-5 grid grid-cols-2 gap-x-3 bg-purple-50 hover:shadow-lg transition duration-500\">\n",
       "<h2 class=\"text-2xl text-purple-800 name col-span-full border-b\">Melissa Lloyd</h2>\n",
       "<p class=\"quote col-span-full px-5 py-5 text-center text-gray-500\">\n",
       "            \"Configurable holistic attitude\"\n",
       "        </p>\n",
       "<div class=\"grid grid-cols-9\">\n",
       "<i class=\"bi bi-envelope-fill text-purple-800\"></i>\n",
       "<p class=\"email col-span-8\">patricia06@brewer-smith.com</p>\n",
       "<i class=\"bi bi-telephone-fill text-purple-800\"></i>\n",
       "<p class=\"phone col-span-8\">148.961.1202x226</p>\n",
       "</div>\n",
       "<div class=\"address grid grid-cols-9\">\n",
       "<i class=\"bi bi-geo-fill text-purple-800\"></i>\n",
       "<p class=\"col-span-8\">\n",
       "                6851 Jonathan Square <br/>\n",
       "                Smithfurt, NH 35810\n",
       "            </p>\n",
       "</div>\n",
       "</div>\n",
       "</div>\n",
       "</body>\n",
       "</html>"
      ]
     },
     "execution_count": 93,
     "metadata": {},
     "output_type": "execute_result"
    }
   ],
   "source": [
    "soup = BeautifulSoup(people)\n",
    "soup"
   ]
  },
  {
   "cell_type": "code",
   "execution_count": 94,
   "metadata": {},
   "outputs": [
    {
     "data": {
      "text/plain": [
       "<div class=\"person border rounded px-3 py-5 grid grid-cols-2 gap-x-3 bg-purple-50 hover:shadow-lg transition duration-500\">\n",
       "<h2 class=\"text-2xl text-purple-800 name col-span-full border-b\">Brenda Sherman</h2>\n",
       "<p class=\"quote col-span-full px-5 py-5 text-center text-gray-500\">\n",
       "            \"Customer-focused grid-enabled Graphical User Interface\"\n",
       "        </p>\n",
       "<div class=\"grid grid-cols-9\">\n",
       "<i class=\"bi bi-envelope-fill text-purple-800\"></i>\n",
       "<p class=\"email col-span-8\">tracirobertson@brown.info</p>\n",
       "<i class=\"bi bi-telephone-fill text-purple-800\"></i>\n",
       "<p class=\"phone col-span-8\">744-276-9026</p>\n",
       "</div>\n",
       "<div class=\"address grid grid-cols-9\">\n",
       "<i class=\"bi bi-geo-fill text-purple-800\"></i>\n",
       "<p class=\"col-span-8\">\n",
       "                3147 Mathis Meadow <br/>\n",
       "                Port Connie, MO 78830\n",
       "            </p>\n",
       "</div>\n",
       "</div>"
      ]
     },
     "execution_count": 94,
     "metadata": {},
     "output_type": "execute_result"
    }
   ],
   "source": [
    "soup.find_all(\"div\", {\"class\": \"person\"})[0]"
   ]
  },
  {
   "cell_type": "code",
   "execution_count": 180,
   "metadata": {},
   "outputs": [
    {
     "data": {
      "text/plain": [
       "[<div class=\"person border rounded px-3 py-5 grid grid-cols-2 gap-x-3 bg-purple-50 hover:shadow-lg transition duration-500\">\n",
       " <h2 class=\"text-2xl text-purple-800 name col-span-full border-b\">Brenda Sherman</h2>\n",
       " <p class=\"quote col-span-full px-5 py-5 text-center text-gray-500\">\n",
       "             \"Customer-focused grid-enabled Graphical User Interface\"\n",
       "         </p>\n",
       " <div class=\"grid grid-cols-9\">\n",
       " <i class=\"bi bi-envelope-fill text-purple-800\"></i>\n",
       " <p class=\"email col-span-8\">tracirobertson@brown.info</p>\n",
       " <i class=\"bi bi-telephone-fill text-purple-800\"></i>\n",
       " <p class=\"phone col-span-8\">744-276-9026</p>\n",
       " </div>\n",
       " <div class=\"address grid grid-cols-9\">\n",
       " <i class=\"bi bi-geo-fill text-purple-800\"></i>\n",
       " <p class=\"col-span-8\">\n",
       "                 3147 Mathis Meadow <br/>\n",
       "                 Port Connie, MO 78830\n",
       "             </p>\n",
       " </div>\n",
       " </div>,\n",
       " <div class=\"person border rounded px-3 py-5 grid grid-cols-2 gap-x-3 bg-purple-50 hover:shadow-lg transition duration-500\">\n",
       " <h2 class=\"text-2xl text-purple-800 name col-span-full border-b\">Paula Byrd</h2>\n",
       " <p class=\"quote col-span-full px-5 py-5 text-center text-gray-500\">\n",
       "             \"Devolved fresh-thinking capability\"\n",
       "         </p>\n",
       " <div class=\"grid grid-cols-9\">\n",
       " <i class=\"bi bi-envelope-fill text-purple-800\"></i>\n",
       " <p class=\"email col-span-8\">lancemyers@hotmail.com</p>\n",
       " <i class=\"bi bi-telephone-fill text-purple-800\"></i>\n",
       " <p class=\"phone col-span-8\">728.774.6493</p>\n",
       " </div>\n",
       " <div class=\"address grid grid-cols-9\">\n",
       " <i class=\"bi bi-geo-fill text-purple-800\"></i>\n",
       " <p class=\"col-span-8\">\n",
       "                 48901 Jill Overpass Suite 211 <br/>\n",
       "                 North Kyle, MS 09433\n",
       "             </p>\n",
       " </div>\n",
       " </div>,\n",
       " <div class=\"person border rounded px-3 py-5 grid grid-cols-2 gap-x-3 bg-purple-50 hover:shadow-lg transition duration-500\">\n",
       " <h2 class=\"text-2xl text-purple-800 name col-span-full border-b\">Kimberly Rodriguez</h2>\n",
       " <p class=\"quote col-span-full px-5 py-5 text-center text-gray-500\">\n",
       "             \"Multi-channeled bottom-line data-warehouse\"\n",
       "         </p>\n",
       " <div class=\"grid grid-cols-9\">\n",
       " <i class=\"bi bi-envelope-fill text-purple-800\"></i>\n",
       " <p class=\"email col-span-8\">annawilson@molina.com</p>\n",
       " <i class=\"bi bi-telephone-fill text-purple-800\"></i>\n",
       " <p class=\"phone col-span-8\">529.841.9273x2629</p>\n",
       " </div>\n",
       " <div class=\"address grid grid-cols-9\">\n",
       " <i class=\"bi bi-geo-fill text-purple-800\"></i>\n",
       " <p class=\"col-span-8\">\n",
       "                 8819 Tanner Ports Suite 051 <br/>\n",
       "                 Lake Cristianville, CT 44250\n",
       "             </p>\n",
       " </div>\n",
       " </div>,\n",
       " <div class=\"person border rounded px-3 py-5 grid grid-cols-2 gap-x-3 bg-purple-50 hover:shadow-lg transition duration-500\">\n",
       " <h2 class=\"text-2xl text-purple-800 name col-span-full border-b\">Lori Jenkins</h2>\n",
       " <p class=\"quote col-span-full px-5 py-5 text-center text-gray-500\">\n",
       "             \"Operative even-keeled matrices\"\n",
       "         </p>\n",
       " <div class=\"grid grid-cols-9\">\n",
       " <i class=\"bi bi-envelope-fill text-purple-800\"></i>\n",
       " <p class=\"email col-span-8\">jessica64@boyd-fuller.net</p>\n",
       " <i class=\"bi bi-telephone-fill text-purple-800\"></i>\n",
       " <p class=\"phone col-span-8\">(065)633-1922x47399</p>\n",
       " </div>\n",
       " <div class=\"address grid grid-cols-9\">\n",
       " <i class=\"bi bi-geo-fill text-purple-800\"></i>\n",
       " <p class=\"col-span-8\">\n",
       "                 315 Brittney Groves Suite 999 <br/>\n",
       "                 Lake John, SC 26298\n",
       "             </p>\n",
       " </div>\n",
       " </div>,\n",
       " <div class=\"person border rounded px-3 py-5 grid grid-cols-2 gap-x-3 bg-purple-50 hover:shadow-lg transition duration-500\">\n",
       " <h2 class=\"text-2xl text-purple-800 name col-span-full border-b\">Alicia Johnson</h2>\n",
       " <p class=\"quote col-span-full px-5 py-5 text-center text-gray-500\">\n",
       "             \"Stand-alone client-driven Graphic Interface\"\n",
       "         </p>\n",
       " <div class=\"grid grid-cols-9\">\n",
       " <i class=\"bi bi-envelope-fill text-purple-800\"></i>\n",
       " <p class=\"email col-span-8\">parkerdavid@gmail.com</p>\n",
       " <i class=\"bi bi-telephone-fill text-purple-800\"></i>\n",
       " <p class=\"phone col-span-8\">931-053-3242</p>\n",
       " </div>\n",
       " <div class=\"address grid grid-cols-9\">\n",
       " <i class=\"bi bi-geo-fill text-purple-800\"></i>\n",
       " <p class=\"col-span-8\">\n",
       "                 75825 Danielle Springs Suite 162 <br/>\n",
       "                 North Baileymouth, IL 91314\n",
       "             </p>\n",
       " </div>\n",
       " </div>,\n",
       " <div class=\"person border rounded px-3 py-5 grid grid-cols-2 gap-x-3 bg-purple-50 hover:shadow-lg transition duration-500\">\n",
       " <h2 class=\"text-2xl text-purple-800 name col-span-full border-b\">James Jackson</h2>\n",
       " <p class=\"quote col-span-full px-5 py-5 text-center text-gray-500\">\n",
       "             \"Pre-emptive intermediate application\"\n",
       "         </p>\n",
       " <div class=\"grid grid-cols-9\">\n",
       " <i class=\"bi bi-envelope-fill text-purple-800\"></i>\n",
       " <p class=\"email col-span-8\">lopezmatthew@morgan.com</p>\n",
       " <i class=\"bi bi-telephone-fill text-purple-800\"></i>\n",
       " <p class=\"phone col-span-8\">(007)212-9435</p>\n",
       " </div>\n",
       " <div class=\"address grid grid-cols-9\">\n",
       " <i class=\"bi bi-geo-fill text-purple-800\"></i>\n",
       " <p class=\"col-span-8\">\n",
       "                 8566 Michael Estates <br/>\n",
       "                 Marktown, RI 09236\n",
       "             </p>\n",
       " </div>\n",
       " </div>,\n",
       " <div class=\"person border rounded px-3 py-5 grid grid-cols-2 gap-x-3 bg-purple-50 hover:shadow-lg transition duration-500\">\n",
       " <h2 class=\"text-2xl text-purple-800 name col-span-full border-b\">Timothy Montes</h2>\n",
       " <p class=\"quote col-span-full px-5 py-5 text-center text-gray-500\">\n",
       "             \"Synergistic regional Internet solution\"\n",
       "         </p>\n",
       " <div class=\"grid grid-cols-9\">\n",
       " <i class=\"bi bi-envelope-fill text-purple-800\"></i>\n",
       " <p class=\"email col-span-8\">adamsmichelle@gmail.com</p>\n",
       " <i class=\"bi bi-telephone-fill text-purple-800\"></i>\n",
       " <p class=\"phone col-span-8\">(189)028-6619x546</p>\n",
       " </div>\n",
       " <div class=\"address grid grid-cols-9\">\n",
       " <i class=\"bi bi-geo-fill text-purple-800\"></i>\n",
       " <p class=\"col-span-8\">\n",
       "                 8928 Gomez Wells Apt. 206 <br/>\n",
       "                 Lake Coryport, AL 13719\n",
       "             </p>\n",
       " </div>\n",
       " </div>,\n",
       " <div class=\"person border rounded px-3 py-5 grid grid-cols-2 gap-x-3 bg-purple-50 hover:shadow-lg transition duration-500\">\n",
       " <h2 class=\"text-2xl text-purple-800 name col-span-full border-b\">Matthew Pittman</h2>\n",
       " <p class=\"quote col-span-full px-5 py-5 text-center text-gray-500\">\n",
       "             \"Configurable attitude-oriented initiative\"\n",
       "         </p>\n",
       " <div class=\"grid grid-cols-9\">\n",
       " <i class=\"bi bi-envelope-fill text-purple-800\"></i>\n",
       " <p class=\"email col-span-8\">cassandragarcia@gmail.com</p>\n",
       " <i class=\"bi bi-telephone-fill text-purple-800\"></i>\n",
       " <p class=\"phone col-span-8\">8786441803</p>\n",
       " </div>\n",
       " <div class=\"address grid grid-cols-9\">\n",
       " <i class=\"bi bi-geo-fill text-purple-800\"></i>\n",
       " <p class=\"col-span-8\">\n",
       "                 41334 Cheryl Parkway Apt. 986 <br/>\n",
       "                 Jerryburgh, MN 67589\n",
       "             </p>\n",
       " </div>\n",
       " </div>,\n",
       " <div class=\"person border rounded px-3 py-5 grid grid-cols-2 gap-x-3 bg-purple-50 hover:shadow-lg transition duration-500\">\n",
       " <h2 class=\"text-2xl text-purple-800 name col-span-full border-b\">Wendy Perry</h2>\n",
       " <p class=\"quote col-span-full px-5 py-5 text-center text-gray-500\">\n",
       "             \"Cross-group next generation alliance\"\n",
       "         </p>\n",
       " <div class=\"grid grid-cols-9\">\n",
       " <i class=\"bi bi-envelope-fill text-purple-800\"></i>\n",
       " <p class=\"email col-span-8\">amy55@ramirez.net</p>\n",
       " <i class=\"bi bi-telephone-fill text-purple-800\"></i>\n",
       " <p class=\"phone col-span-8\">539-650-0966x625</p>\n",
       " </div>\n",
       " <div class=\"address grid grid-cols-9\">\n",
       " <i class=\"bi bi-geo-fill text-purple-800\"></i>\n",
       " <p class=\"col-span-8\">\n",
       "                 43737 Jones Spur <br/>\n",
       "                 Lake Samanthaside, VT 97990\n",
       "             </p>\n",
       " </div>\n",
       " </div>,\n",
       " <div class=\"person border rounded px-3 py-5 grid grid-cols-2 gap-x-3 bg-purple-50 hover:shadow-lg transition duration-500\">\n",
       " <h2 class=\"text-2xl text-purple-800 name col-span-full border-b\">Melissa Lloyd</h2>\n",
       " <p class=\"quote col-span-full px-5 py-5 text-center text-gray-500\">\n",
       "             \"Configurable holistic attitude\"\n",
       "         </p>\n",
       " <div class=\"grid grid-cols-9\">\n",
       " <i class=\"bi bi-envelope-fill text-purple-800\"></i>\n",
       " <p class=\"email col-span-8\">patricia06@brewer-smith.com</p>\n",
       " <i class=\"bi bi-telephone-fill text-purple-800\"></i>\n",
       " <p class=\"phone col-span-8\">148.961.1202x226</p>\n",
       " </div>\n",
       " <div class=\"address grid grid-cols-9\">\n",
       " <i class=\"bi bi-geo-fill text-purple-800\"></i>\n",
       " <p class=\"col-span-8\">\n",
       "                 6851 Jonathan Square <br/>\n",
       "                 Smithfurt, NH 35810\n",
       "             </p>\n",
       " </div>\n",
       " </div>]"
      ]
     },
     "execution_count": 180,
     "metadata": {},
     "output_type": "execute_result"
    }
   ],
   "source": [
    "personal_info = soup.select('.person.border.rounded')\n",
    "personal_info"
   ]
  },
  {
   "cell_type": "code",
   "execution_count": 182,
   "metadata": {},
   "outputs": [
    {
     "data": {
      "text/plain": [
       "'Brenda Sherman'"
      ]
     },
     "execution_count": 182,
     "metadata": {},
     "output_type": "execute_result"
    }
   ],
   "source": [
    "# name\n",
    "personal_info = soup.select('.person.border')\n",
    "personal_info[0].select('.name')[0].text"
   ]
  },
  {
   "cell_type": "code",
   "execution_count": 171,
   "metadata": {},
   "outputs": [
    {
     "data": {
      "text/plain": [
       "'\"Customer-focused grid-enabled Graphical User Interface\"'"
      ]
     },
     "execution_count": 171,
     "metadata": {},
     "output_type": "execute_result"
    }
   ],
   "source": [
    "# quote\n",
    "personal_info[0].select('.quote')[0].text.strip()"
   ]
  },
  {
   "cell_type": "code",
   "execution_count": 165,
   "metadata": {},
   "outputs": [
    {
     "data": {
      "text/plain": [
       "'tracirobertson@brown.info'"
      ]
     },
     "execution_count": 165,
     "metadata": {},
     "output_type": "execute_result"
    }
   ],
   "source": [
    "# email\n",
    "personal_info[0].select('.email')[0].text"
   ]
  },
  {
   "cell_type": "code",
   "execution_count": 167,
   "metadata": {},
   "outputs": [
    {
     "data": {
      "text/plain": [
       "'744-276-9026'"
      ]
     },
     "execution_count": 167,
     "metadata": {},
     "output_type": "execute_result"
    }
   ],
   "source": [
    "# phone\n",
    "personal_info[0].select('.phone')[0].text"
   ]
  },
  {
   "cell_type": "code",
   "execution_count": 176,
   "metadata": {},
   "outputs": [
    {
     "data": {
      "text/plain": [
       "'3147 Mathis Meadow \\n                Port Connie, MO 78830'"
      ]
     },
     "execution_count": 176,
     "metadata": {},
     "output_type": "execute_result"
    }
   ],
   "source": [
    "# address\n",
    "personal_info[0].select('.address')[0].text.strip()"
   ]
  },
  {
   "cell_type": "code",
   "execution_count": 315,
   "metadata": {},
   "outputs": [],
   "source": [
    "info = pd.DataFrame(columns={\"name\",\"quote\",\"email\",\"phone\"})"
   ]
  },
  {
   "cell_type": "code",
   "execution_count": 316,
   "metadata": {},
   "outputs": [
    {
     "data": {
      "text/html": [
       "<div>\n",
       "<style scoped>\n",
       "    .dataframe tbody tr th:only-of-type {\n",
       "        vertical-align: middle;\n",
       "    }\n",
       "\n",
       "    .dataframe tbody tr th {\n",
       "        vertical-align: top;\n",
       "    }\n",
       "\n",
       "    .dataframe thead th {\n",
       "        text-align: right;\n",
       "    }\n",
       "</style>\n",
       "<table border=\"1\" class=\"dataframe\">\n",
       "  <thead>\n",
       "    <tr style=\"text-align: right;\">\n",
       "      <th></th>\n",
       "      <th>name</th>\n",
       "      <th>phone</th>\n",
       "      <th>email</th>\n",
       "      <th>quote</th>\n",
       "    </tr>\n",
       "  </thead>\n",
       "  <tbody>\n",
       "  </tbody>\n",
       "</table>\n",
       "</div>"
      ],
      "text/plain": [
       "Empty DataFrame\n",
       "Columns: [name, phone, email, quote]\n",
       "Index: []"
      ]
     },
     "execution_count": 316,
     "metadata": {},
     "output_type": "execute_result"
    }
   ],
   "source": [
    "info"
   ]
  },
  {
   "cell_type": "code",
   "execution_count": 326,
   "metadata": {},
   "outputs": [],
   "source": [
    "def people_df(info):\n",
    "    name = personal_info.select('.name')[0].text\n",
    "    quote = personal_info.select('.quote')[0].text.strip()\n",
    "    email = personal_info.select('.email')[0].text\n",
    "    phone = personal_info.select('.phone')[0].text\n",
    "    info.name = name\n",
    "    info.quote = quote \n",
    "    info.email = email \n",
    "    info.phone = phone\n",
    "    return info"
   ]
  },
  {
   "cell_type": "code",
   "execution_count": 327,
   "metadata": {},
   "outputs": [
    {
     "ename": "AttributeError",
     "evalue": "ResultSet object has no attribute 'select'. You're probably treating a list of elements like a single element. Did you call find_all() when you meant to call find()?",
     "output_type": "error",
     "traceback": [
      "\u001b[0;31m---------------------------------------------------------------------------\u001b[0m",
      "\u001b[0;31mAttributeError\u001b[0m                            Traceback (most recent call last)",
      "\u001b[0;32m<ipython-input-327-4e982502fe8b>\u001b[0m in \u001b[0;36m<module>\u001b[0;34m\u001b[0m\n\u001b[0;32m----> 1\u001b[0;31m \u001b[0mpeople_df\u001b[0m\u001b[0;34m(\u001b[0m\u001b[0minfo\u001b[0m\u001b[0;34m)\u001b[0m\u001b[0;34m\u001b[0m\u001b[0;34m\u001b[0m\u001b[0m\n\u001b[0m",
      "\u001b[0;32m<ipython-input-326-81dab6e8f54a>\u001b[0m in \u001b[0;36mpeople_df\u001b[0;34m(info)\u001b[0m\n\u001b[1;32m      1\u001b[0m \u001b[0;32mdef\u001b[0m \u001b[0mpeople_df\u001b[0m\u001b[0;34m(\u001b[0m\u001b[0minfo\u001b[0m\u001b[0;34m)\u001b[0m\u001b[0;34m:\u001b[0m\u001b[0;34m\u001b[0m\u001b[0;34m\u001b[0m\u001b[0m\n\u001b[0;32m----> 2\u001b[0;31m     \u001b[0mname\u001b[0m \u001b[0;34m=\u001b[0m \u001b[0mpersonal_info\u001b[0m\u001b[0;34m.\u001b[0m\u001b[0mselect\u001b[0m\u001b[0;34m(\u001b[0m\u001b[0;34m'.name'\u001b[0m\u001b[0;34m)\u001b[0m\u001b[0;34m[\u001b[0m\u001b[0;36m0\u001b[0m\u001b[0;34m]\u001b[0m\u001b[0;34m.\u001b[0m\u001b[0mtext\u001b[0m\u001b[0;34m\u001b[0m\u001b[0;34m\u001b[0m\u001b[0m\n\u001b[0m\u001b[1;32m      3\u001b[0m     \u001b[0mquote\u001b[0m \u001b[0;34m=\u001b[0m \u001b[0mpersonal_info\u001b[0m\u001b[0;34m.\u001b[0m\u001b[0mselect\u001b[0m\u001b[0;34m(\u001b[0m\u001b[0;34m'.quote'\u001b[0m\u001b[0;34m)\u001b[0m\u001b[0;34m[\u001b[0m\u001b[0;36m0\u001b[0m\u001b[0;34m]\u001b[0m\u001b[0;34m.\u001b[0m\u001b[0mtext\u001b[0m\u001b[0;34m.\u001b[0m\u001b[0mstrip\u001b[0m\u001b[0;34m(\u001b[0m\u001b[0;34m)\u001b[0m\u001b[0;34m\u001b[0m\u001b[0;34m\u001b[0m\u001b[0m\n\u001b[1;32m      4\u001b[0m     \u001b[0memail\u001b[0m \u001b[0;34m=\u001b[0m \u001b[0mpersonal_info\u001b[0m\u001b[0;34m.\u001b[0m\u001b[0mselect\u001b[0m\u001b[0;34m(\u001b[0m\u001b[0;34m'.email'\u001b[0m\u001b[0;34m)\u001b[0m\u001b[0;34m[\u001b[0m\u001b[0;36m0\u001b[0m\u001b[0;34m]\u001b[0m\u001b[0;34m.\u001b[0m\u001b[0mtext\u001b[0m\u001b[0;34m\u001b[0m\u001b[0;34m\u001b[0m\u001b[0m\n\u001b[1;32m      5\u001b[0m     \u001b[0mphone\u001b[0m \u001b[0;34m=\u001b[0m \u001b[0mpersonal_info\u001b[0m\u001b[0;34m.\u001b[0m\u001b[0mselect\u001b[0m\u001b[0;34m(\u001b[0m\u001b[0;34m'.phone'\u001b[0m\u001b[0;34m)\u001b[0m\u001b[0;34m[\u001b[0m\u001b[0;36m0\u001b[0m\u001b[0;34m]\u001b[0m\u001b[0;34m.\u001b[0m\u001b[0mtext\u001b[0m\u001b[0;34m\u001b[0m\u001b[0;34m\u001b[0m\u001b[0m\n",
      "\u001b[0;32m/usr/local/anaconda3/lib/python3.8/site-packages/bs4/element.py\u001b[0m in \u001b[0;36m__getattr__\u001b[0;34m(self, key)\u001b[0m\n\u001b[1;32m   2171\u001b[0m     \u001b[0;32mdef\u001b[0m \u001b[0m__getattr__\u001b[0m\u001b[0;34m(\u001b[0m\u001b[0mself\u001b[0m\u001b[0;34m,\u001b[0m \u001b[0mkey\u001b[0m\u001b[0;34m)\u001b[0m\u001b[0;34m:\u001b[0m\u001b[0;34m\u001b[0m\u001b[0;34m\u001b[0m\u001b[0m\n\u001b[1;32m   2172\u001b[0m         \u001b[0;34m\"\"\"Raise a helpful exception to explain a common code fix.\"\"\"\u001b[0m\u001b[0;34m\u001b[0m\u001b[0;34m\u001b[0m\u001b[0m\n\u001b[0;32m-> 2173\u001b[0;31m         raise AttributeError(\n\u001b[0m\u001b[1;32m   2174\u001b[0m             \u001b[0;34m\"ResultSet object has no attribute '%s'. You're probably treating a list of elements like a single element. Did you call find_all() when you meant to call find()?\"\u001b[0m \u001b[0;34m%\u001b[0m \u001b[0mkey\u001b[0m\u001b[0;34m\u001b[0m\u001b[0;34m\u001b[0m\u001b[0m\n\u001b[1;32m   2175\u001b[0m         )\n",
      "\u001b[0;31mAttributeError\u001b[0m: ResultSet object has no attribute 'select'. You're probably treating a list of elements like a single element. Did you call find_all() when you meant to call find()?"
     ]
    }
   ],
   "source": [
    "people_df(info)"
   ]
  },
  {
   "cell_type": "code",
   "execution_count": 313,
   "metadata": {},
   "outputs": [],
   "source": [
    "for person in personal_info:\n",
    "    name = person.select('.name')[0].text\n",
    "    quote = person.select('.quote')[0].text.strip()\n",
    "    email = person.select('.email')[0].text\n",
    "    phone = person.select('.phone')[0].text"
   ]
  },
  {
   "cell_type": "code",
   "execution_count": 314,
   "metadata": {},
   "outputs": [],
   "source": [
    "for person in personal_info:\n",
    "    info += person.select('.name')[0].text"
   ]
  },
  {
   "cell_type": "code",
   "execution_count": 311,
   "metadata": {},
   "outputs": [
    {
     "data": {
      "text/plain": [
       "'Melissa LloydBrenda ShermanPaula ByrdKimberly RodriguezLori JenkinsAlicia JohnsonJames JacksonTimothy MontesMatthew PittmanWendy PerryMelissa Lloyd'"
      ]
     },
     "execution_count": 311,
     "metadata": {},
     "output_type": "execute_result"
    }
   ],
   "source": [
    "info"
   ]
  },
  {
   "cell_type": "code",
   "execution_count": null,
   "metadata": {},
   "outputs": [],
   "source": []
  },
  {
   "cell_type": "code",
   "execution_count": 218,
   "metadata": {},
   "outputs": [
    {
     "name": "stdout",
     "output_type": "stream",
     "text": [
      "Brenda Sherman\n",
      "Paula Byrd\n",
      "Kimberly Rodriguez\n",
      "Lori Jenkins\n",
      "Alicia Johnson\n",
      "James Jackson\n",
      "Timothy Montes\n",
      "Matthew Pittman\n",
      "Wendy Perry\n",
      "Melissa Lloyd\n"
     ]
    }
   ],
   "source": [
    "for person in personal_info:\n",
    "    print(person.select('.name')[0].text)"
   ]
  },
  {
   "cell_type": "code",
   "execution_count": 239,
   "metadata": {},
   "outputs": [
    {
     "name": "stdout",
     "output_type": "stream",
     "text": [
      "\"Customer-focused grid-enabled Graphical User Interface\"\n",
      "\"Devolved fresh-thinking capability\"\n",
      "\"Multi-channeled bottom-line data-warehouse\"\n",
      "\"Operative even-keeled matrices\"\n",
      "\"Stand-alone client-driven Graphic Interface\"\n",
      "\"Pre-emptive intermediate application\"\n",
      "\"Synergistic regional Internet solution\"\n",
      "\"Configurable attitude-oriented initiative\"\n",
      "\"Cross-group next generation alliance\"\n",
      "\"Configurable holistic attitude\"\n"
     ]
    }
   ],
   "source": [
    "for person in personal_info:\n",
    "    print(person.select('.quote')[0].text.strip())"
   ]
  },
  {
   "cell_type": "code",
   "execution_count": null,
   "metadata": {},
   "outputs": [],
   "source": []
  }
 ],
 "metadata": {
  "interpreter": {
   "hash": "38cca0c38332a56087b24af0bc80247f4fced29cb4f7f437d91dc159adec9c4e"
  },
  "kernelspec": {
   "display_name": "Python 3",
   "language": "python",
   "name": "python3"
  },
  "language_info": {
   "codemirror_mode": {
    "name": "ipython",
    "version": 3
   },
   "file_extension": ".py",
   "mimetype": "text/x-python",
   "name": "python",
   "nbconvert_exporter": "python",
   "pygments_lexer": "ipython3",
   "version": "3.8.8"
  }
 },
 "nbformat": 4,
 "nbformat_minor": 4
}
