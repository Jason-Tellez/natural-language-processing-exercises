{
 "cells": [
  {
   "cell_type": "code",
   "execution_count": 1,
   "id": "06024e27",
   "metadata": {},
   "outputs": [],
   "source": [
    "import numpy as np\n",
    "import pandas as pd\n",
    "import re"
   ]
  },
  {
   "cell_type": "markdown",
   "id": "c5601c62",
   "metadata": {},
   "source": [
    "### 1. Write a function named `is_vowel`. It should accept a string as input and use a regular expression to determine if the passed string is a vowel. While not explicity mentioned in the lesson, you can treat the result of `re.search` as a boolean value that indicates whether or not the regular expression matches the given string."
   ]
  },
  {
   "cell_type": "code",
   "execution_count": 224,
   "id": "db607554",
   "metadata": {},
   "outputs": [
    {
     "data": {
      "text/plain": [
       "['A', 'a', 'o']"
      ]
     },
     "execution_count": 224,
     "metadata": {},
     "output_type": "execute_result"
    }
   ],
   "source": [
    "regexp = r'[aeiou]+'\n",
    "string = 'NsdkAssd da13dQo'\n",
    "\n",
    "re.findall(regexp, string, re.IGNORECASE)"
   ]
  },
  {
   "cell_type": "code",
   "execution_count": 225,
   "id": "98204599",
   "metadata": {},
   "outputs": [
    {
     "data": {
      "text/plain": [
       "['A', 'a', 'o']"
      ]
     },
     "execution_count": 225,
     "metadata": {},
     "output_type": "execute_result"
    }
   ],
   "source": [
    "re.findall(regexp, string, re.IGNORECASE)"
   ]
  },
  {
   "cell_type": "code",
   "execution_count": 226,
   "id": "5ee875f4",
   "metadata": {},
   "outputs": [],
   "source": [
    "def is_vowel(string):\n",
    "    \"\"\"\n",
    "    Function takes in a string and detemines whether string is a vowel or not.\n",
    "    \"\"\"\n",
    "    regexp = r'[aeiou]'\n",
    "    if len(re.findall(regexp, string, re.IGNORECASE)) < 1:\n",
    "        print('String is not a vowel')\n",
    "    else:\n",
    "        print(\"String is a vowel\")"
   ]
  },
  {
   "cell_type": "code",
   "execution_count": 232,
   "id": "f02bd291",
   "metadata": {},
   "outputs": [
    {
     "name": "stdout",
     "output_type": "stream",
     "text": [
      "String is not a vowel\n"
     ]
    }
   ],
   "source": [
    "is_vowel('D')"
   ]
  },
  {
   "cell_type": "code",
   "execution_count": 233,
   "id": "84fa6f60",
   "metadata": {},
   "outputs": [
    {
     "name": "stdout",
     "output_type": "stream",
     "text": [
      "String is a vowel\n"
     ]
    }
   ],
   "source": [
    "is_vowel('A')"
   ]
  },
  {
   "cell_type": "markdown",
   "id": "4a2f301c",
   "metadata": {},
   "source": [
    "### 2. Write a function named is_valid_username that accepts a string as input. A valid username starts with a lowercase letter, and only consists of lowercase letters, numbers, or the _ character. It should also be no longer than 32 characters. The function should return either True or False depending on whether the passed string is a valid username."
   ]
  },
  {
   "cell_type": "code",
   "execution_count": 234,
   "id": "df18e2de",
   "metadata": {},
   "outputs": [
    {
     "data": {
      "text/plain": [
       "[]"
      ]
     },
     "execution_count": 234,
     "metadata": {},
     "output_type": "execute_result"
    }
   ],
   "source": [
    "regexp = r'^[a-z][0-9a-z_]{,31}$'\n",
    "string = 'sdsdk3s_sdWda13doasasassasassss'\n",
    "\n",
    "re.findall(regexp, string)"
   ]
  },
  {
   "cell_type": "code",
   "execution_count": 235,
   "id": "22cf74c3",
   "metadata": {},
   "outputs": [],
   "source": [
    "def is_valid_username(string):\n",
    "    regexp = r'^[a-z][0-9a-z_]{1,31}$'\n",
    "    if len(re.findall(regexp, string)) > 0:\n",
    "        print(True)\n",
    "    else:\n",
    "        print(False)"
   ]
  },
  {
   "cell_type": "code",
   "execution_count": 236,
   "id": "81d08a01",
   "metadata": {},
   "outputs": [
    {
     "name": "stdout",
     "output_type": "stream",
     "text": [
      "False\n",
      "True\n",
      "False\n",
      "True\n",
      "False\n"
     ]
    }
   ],
   "source": [
    "is_valid_username('aaaaaaaaaaaaaaaaaaaaaaaaaaaaaaaaa')\n",
    "\n",
    "is_valid_username('codeup')\n",
    "\n",
    "is_valid_username('Codeup')\n",
    "\n",
    "is_valid_username('codeup123')\n",
    "\n",
    "is_valid_username('1codeup')\n"
   ]
  },
  {
   "cell_type": "markdown",
   "id": "5b5afab3",
   "metadata": {},
   "source": [
    "### 3. Write a regular expression to capture phone numbers. It should match all of the following:\n",
    "> (210) 867 5309\\\n",
    "> +1 210.867.5309\\\n",
    "> 867-5309\\\n",
    "> 210-867-5309"
   ]
  },
  {
   "cell_type": "code",
   "execution_count": 239,
   "id": "c5f1aeab",
   "metadata": {},
   "outputs": [
    {
     "data": {
      "text/plain": [
       "['210', '867', '5309']"
      ]
     },
     "execution_count": 239,
     "metadata": {},
     "output_type": "execute_result"
    }
   ],
   "source": [
    "regexp = r'\\d+'\n",
    "number = '(210) 867 5309)'\n",
    "\n",
    "re.findall(regexp, number)"
   ]
  },
  {
   "cell_type": "code",
   "execution_count": 240,
   "id": "1fece5a7",
   "metadata": {},
   "outputs": [
    {
     "data": {
      "text/plain": [
       "['1', '210', '867', '5309']"
      ]
     },
     "execution_count": 240,
     "metadata": {},
     "output_type": "execute_result"
    }
   ],
   "source": [
    "number = '+1 210.867.5309'\n",
    "\n",
    "re.findall(regexp, number)"
   ]
  },
  {
   "cell_type": "code",
   "execution_count": null,
   "id": "661b7069",
   "metadata": {},
   "outputs": [],
   "source": []
  },
  {
   "cell_type": "code",
   "execution_count": null,
   "id": "ed1ba714",
   "metadata": {},
   "outputs": [],
   "source": []
  },
  {
   "cell_type": "code",
   "execution_count": 142,
   "id": "15ba09a0",
   "metadata": {},
   "outputs": [
    {
     "data": {
      "text/plain": [
       "['', '', '', '', '', '', '', '', '', '', '', '', '', '', '']"
      ]
     },
     "execution_count": 142,
     "metadata": {},
     "output_type": "execute_result"
    }
   ],
   "source": [
    "phone_regex = re.compile(\n",
    "'''\n",
    "^\n",
    "(?P<country_code>\\+\\d+)?\n",
    "\\D*?\n",
    "(?P<area_code>\\d{3})?\n",
    "\\D*?\n",
    "(?P<exchange_code>\\d{3})\n",
    "\\D*?\n",
    "(?P<line_number>\\d{4})\n",
    "\\D*\n",
    "$\n",
    "''', re.VERBOSE)\n",
    "In [12]:\n",
    "df.number.str.extract(phone_regex)"
   ]
  },
  {
   "cell_type": "code",
   "execution_count": null,
   "id": "08d8fe14",
   "metadata": {},
   "outputs": [],
   "source": []
  },
  {
   "cell_type": "markdown",
   "id": "ec7632be",
   "metadata": {},
   "source": [
    "### 4. Use regular expressions to convert the dates below to the standardized year-month-day format.\n",
    "\n",
    "> 02/04/19 \n",
    "\\\n",
    "> 02/05/19\n",
    "\\\n",
    "> 02/06/19\n",
    "\\\n",
    "> 02/07/19\n",
    "\\\n",
    "> 02/08/19\n",
    "\\\n",
    "> 02/09/19\n",
    "\\\n",
    "> 02/10/19"
   ]
  },
  {
   "cell_type": "code",
   "execution_count": 181,
   "id": "9688dbc0",
   "metadata": {},
   "outputs": [
    {
     "data": {
      "text/plain": [
       "0    02/04/19\n",
       "1    02/05/19\n",
       "2    02/06/19\n",
       "3    02/07/19\n",
       "4    02/08/19\n",
       "5    02/09/19\n",
       "6    02/10/19\n",
       "dtype: object"
      ]
     },
     "execution_count": 181,
     "metadata": {},
     "output_type": "execute_result"
    }
   ],
   "source": [
    "dates = pd.Series(['02/04/19',\n",
    "           '02/05/19',\n",
    "           '02/06/19',\n",
    "           '02/07/19',\n",
    "           '02/08/19',\n",
    "           '02/09/19',\n",
    "           '02/10/19'\n",
    "          ])\n",
    "dates"
   ]
  },
  {
   "cell_type": "code",
   "execution_count": 183,
   "id": "e0a2101a",
   "metadata": {},
   "outputs": [
    {
     "data": {
      "text/plain": [
       "0    19-02-04\n",
       "1    19-02-05\n",
       "2    19-02-06\n",
       "3    19-02-07\n",
       "4    19-02-08\n",
       "5    19-02-09\n",
       "6    19-02-10\n",
       "dtype: object"
      ]
     },
     "execution_count": 183,
     "metadata": {},
     "output_type": "execute_result"
    }
   ],
   "source": [
    "regexp = r'(\\d{2})/(\\d{2})/(\\d{2})'\n",
    "dates.str.replace(regexp, r'\\3-\\1-\\2')"
   ]
  },
  {
   "cell_type": "markdown",
   "id": "3a190c84",
   "metadata": {},
   "source": [
    "### 5. Write a regex to extract the various parts of these logfile lines:\n",
    "\n",
    ">GET /api/v1/sales?page=86 [16/Apr/2019:193452+0000] HTTP/1.1 {200} 510348 \"python-requests/2.21.0\" 97.105.19.58\n",
    "\\\n",
    ">POST /users_accounts/file-upload [16/Apr/2019:193452+0000] HTTP/1.1 {201} 42 \"User-Agent: Mozilla/5.0 (X11; Fedora; Fedora; Linux x86_64) AppleWebKit/537.36 (KHTML, like Gecko) Chrome/73.0.3683.86 Safari/537.36\" 97.105.19.58\n",
    "\\\n",
    ">GET /api/v1/items?page=3 [16/Apr/2019:193453+0000] HTTP/1.1 {429} 3561 \"python-requests/2.21.0\" 97.105.19.58"
   ]
  },
  {
   "cell_type": "code",
   "execution_count": 219,
   "id": "453e200e",
   "metadata": {},
   "outputs": [
    {
     "data": {
      "text/html": [
       "<div>\n",
       "<style scoped>\n",
       "    .dataframe tbody tr th:only-of-type {\n",
       "        vertical-align: middle;\n",
       "    }\n",
       "\n",
       "    .dataframe tbody tr th {\n",
       "        vertical-align: top;\n",
       "    }\n",
       "\n",
       "    .dataframe thead th {\n",
       "        text-align: right;\n",
       "    }\n",
       "</style>\n",
       "<table border=\"1\" class=\"dataframe\">\n",
       "  <thead>\n",
       "    <tr style=\"text-align: right;\">\n",
       "      <th></th>\n",
       "      <th>0</th>\n",
       "    </tr>\n",
       "  </thead>\n",
       "  <tbody>\n",
       "    <tr>\n",
       "      <th>0</th>\n",
       "      <td>/api/v1</td>\n",
       "    </tr>\n",
       "    <tr>\n",
       "      <th>1</th>\n",
       "      <td>NaN</td>\n",
       "    </tr>\n",
       "    <tr>\n",
       "      <th>2</th>\n",
       "      <td>NaN</td>\n",
       "    </tr>\n",
       "  </tbody>\n",
       "</table>\n",
       "</div>"
      ],
      "text/plain": [
       "         0\n",
       "0  /api/v1\n",
       "1      NaN\n",
       "2      NaN"
      ]
     },
     "execution_count": 219,
     "metadata": {},
     "output_type": "execute_result"
    }
   ],
   "source": [
    "df = pd.DataFrame()\n",
    "df['text'] = pd.Series([\n",
    "    'GET /api/v1/sales?page=86 [16/Apr/2019:193452+0000] HTTP/1.1 {200} 510348 \"python-requests/2.21.0\" 97.105.19.58',\n",
    "    'POST /users_accounts/file-upload [16/Apr/2019:193452+0000] HTTP/1.1 {201} 42 \"User-Agent: Mozilla/5.0 (X11; Fedora; Fedora; Linux x86_64) AppleWebKit/537.36 (KHTML, like Gecko) Chrome/73.0.3683.86 Safari/537.36\" 97.105.19.58',\n",
    "    'GET /api/v1/items?page=3 [16/Apr/2019:193453+0000] HTTP/1.1 {429} 3561 \"python-requests/2.21.0\" 97.105.19.58'\n",
    "])\n",
    "\n",
    "regexp = r'(\\S*)/s'\n",
    "df.text.str.extract(regexp)"
   ]
  },
  {
   "cell_type": "code",
   "execution_count": 189,
   "id": "767a4171",
   "metadata": {},
   "outputs": [
    {
     "data": {
      "text/plain": [
       "'POST /users_accounts/file-upload [16/Apr/2019:193452+0000] HTTP/1.1 {201} 42 \"User-Agent: Mozilla/5.0 (X11; Fedora; Fedora; Linux x86_64) AppleWebKit/537.36 (KHTML, like Gecko) Chrome/73.0.3683.86 Safari/537.36\" 97.105.19.58'"
      ]
     },
     "execution_count": 189,
     "metadata": {},
     "output_type": "execute_result"
    }
   ],
   "source": [
    "log_files[1]"
   ]
  },
  {
   "cell_type": "code",
   "execution_count": null,
   "id": "03159be6",
   "metadata": {},
   "outputs": [],
   "source": []
  }
 ],
 "metadata": {
  "kernelspec": {
   "display_name": "Python 3",
   "language": "python",
   "name": "python3"
  },
  "language_info": {
   "codemirror_mode": {
    "name": "ipython",
    "version": 3
   },
   "file_extension": ".py",
   "mimetype": "text/x-python",
   "name": "python",
   "nbconvert_exporter": "python",
   "pygments_lexer": "ipython3",
   "version": "3.8.8"
  }
 },
 "nbformat": 4,
 "nbformat_minor": 5
}
